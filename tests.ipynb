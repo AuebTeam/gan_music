{
 "cells": [
  {
   "cell_type": "code",
   "execution_count": 92,
   "metadata": {},
   "outputs": [
    {
     "name": "stdout",
     "output_type": "stream",
     "text": [
      "(582, 128)\n",
      "(703, 128)\n"
     ]
    }
   ],
   "source": [
    "from mido import MidiFile, MidiTrack, Message\n",
    "import numpy as np\n",
    "import os \n",
    "import pretty_midi\n",
    "\n",
    "def midi_to_array(midi_path):\n",
    "    # Load the MIDI file\n",
    "    midi_data = pretty_midi.PrettyMIDI(midi_path)\n",
    "    \n",
    "    # Get the piano roll representation\n",
    "    piano_roll = midi_data.get_piano_roll(fs=1)  # Set fs to control time resolution\n",
    "    \n",
    "    # Transpose the piano roll to have time steps as rows and pitches as columns\n",
    "    piano_roll = piano_roll.T\n",
    "    \n",
    "    return piano_roll\n",
    "\n",
    "# def midi_to_notes(midi_file, length = 1000):\n",
    "#     mid = MidiFile(midi_file)\n",
    "#     notes = []\n",
    "#     for msg in mid:\n",
    "#         if not msg.is_meta and msg.channel == 0 and msg.type == \"note_on\":\n",
    "#             data = msg.bytes()\n",
    "#             if data[2] != 0:\n",
    "#                 notes.append(data[1])\n",
    "#     notes = np.array(notes)\n",
    "#     notes = notes[:length]\n",
    "#     return notes\n",
    "\n",
    "# Example usage\n",
    "midi_path = 'maestro-v3.0.0-midi/maestro-v3.0.0/2018/MIDI-Unprocessed_Chamber2_MID--AUDIO_09_R3_2018_wav--1.midi'\n",
    "midi_pathg = \"maestro-v3.0.0-midi/maestro-v3.0.0/2018/MIDI-Unprocessed_Chamber3_MID--AUDIO_10_R3_2018_wav--1.midi\"\n",
    "midi_array = midi_to_array(midi_path)\n",
    "midi_arrayg = midi_to_array(midi_pathg)\n",
    "print(midi_array.shape)  # Print the shape of the resulting numpy array\n",
    "print(midi_arrayg.shape)"
   ]
  },
  {
   "cell_type": "code",
   "execution_count": 84,
   "metadata": {},
   "outputs": [],
   "source": [
    "data = []\n",
    "for file in os.listdir(\"maestro-v3.0.0-midi/maestro-v3.0.0/2018\"):\n",
    "    if file.endswith(\".midi\"):\n",
    "        data.append(midi_to_array(\"maestro-v3.0.0-midi/maestro-v3.0.0/2018/\" + file))"
   ]
  },
  {
   "cell_type": "code",
   "execution_count": 85,
   "metadata": {},
   "outputs": [
    {
     "data": {
      "text/plain": [
       "2562"
      ]
     },
     "execution_count": 85,
     "metadata": {},
     "output_type": "execute_result"
    }
   ],
   "source": [
    "#pad the data\n",
    "max_len = max([x.shape[0] for x in data])\n",
    "max_len"
   ]
  },
  {
   "cell_type": "code",
   "execution_count": 86,
   "metadata": {},
   "outputs": [],
   "source": [
    "padded_data = []\n",
    "for x in data:\n",
    "    pad = np.zeros((max_len - x.shape[0], x.shape[1]))\n",
    "    padded_data.append(np.concatenate((x, pad), axis=0))\n"
   ]
  },
  {
   "cell_type": "code",
   "execution_count": 87,
   "metadata": {},
   "outputs": [
    {
     "data": {
      "text/plain": [
       "(2562, 128)"
      ]
     },
     "execution_count": 87,
     "metadata": {},
     "output_type": "execute_result"
    }
   ],
   "source": [
    "padded_data[0].shape"
   ]
  },
  {
   "cell_type": "code",
   "execution_count": 93,
   "metadata": {},
   "outputs": [],
   "source": [
    "#conver padded data to midi files\n",
    "padded_data[0] = padded_data[0].T\n",
    "padded_data[0].shape\n",
    "\n",
    "#convert to midi\n",
    "def array_to_midi(array, name):\n",
    "    array = array.T\n",
    "    midi = MidiFile()\n",
    "    track = MidiTrack()\n",
    "    midi.tracks.append(track)\n",
    "    for i in range(array.shape[0]):\n",
    "        if array[i, 0] != 0:\n",
    "            track.append(Message('note_on', note=int(array[i, 0]), velocity=int(array[i, 1]), time=int(array[i, 2])))\n",
    "    midi.save(name)\n",
    "\n",
    "array_to_midi(data[0], \"test.midi\")\n"
   ]
  },
  {
   "cell_type": "code",
   "execution_count": 29,
   "metadata": {},
   "outputs": [],
   "source": [
    "from torch.utils.data import Dataset, DataLoader\n",
    "import torch\n",
    "\n",
    "class MidiDataset(Dataset):\n",
    "    def __init__(self, data, seq_length):\n",
    "        self.data = data\n",
    "        self.seq_length = seq_length\n",
    "\n",
    "    def __len__(self):\n",
    "        return len(self.data)\n",
    "\n",
    "    def __getitem__(self, idx):\n",
    "        return self.data[idx]\n",
    "\n",
    "    def collate_fn(self, batch):\n",
    "        batch = torch.tensor(batch)\n",
    "        batch = batch.transpose(0, 1)\n",
    "        return batch\n",
    "\n",
    "dataset = MidiDataset(padded_data, max_len)\n"
   ]
  },
  {
   "cell_type": "code",
   "execution_count": 36,
   "metadata": {},
   "outputs": [],
   "source": [
    "class Generator(torch.nn.Module):\n",
    "    def __init__(self, input_size, hidden_size, output_size):\n",
    "        super(Generator, self).__init__()\n",
    "        self.input_size = input_size\n",
    "        self.hidden_size = hidden_size\n",
    "        self.output_size = output_size\n",
    "\n",
    "        self.lstm = torch.nn.LSTM(input_size, hidden_size, batch_first=True)\n",
    "        self.linear = torch.nn.Linear(hidden_size, output_size)\n",
    "        self.softmax = torch.nn.Softmax(dim=2)\n",
    "\n",
    "    def forward(self, x, hidden):\n",
    "        x, hidden = self.lstm(x, hidden)\n",
    "        x = self.linear(x)\n",
    "        x = self.softmax(x)\n",
    "        return x, hidden\n",
    "\n",
    "    def init_hidden(self, batch_size):\n",
    "        return (torch.zeros(1000, batch_size, self.hidden_size), torch.zeros(1000, batch_size, self.hidden_size))"
   ]
  },
  {
   "cell_type": "code",
   "execution_count": 37,
   "metadata": {},
   "outputs": [],
   "source": [
    "class Disciminator(torch.nn.Module):\n",
    "    def __init__(self):\n",
    "        super().__init__()\n",
    "        self.lstm = torch.nn.LSTM(1, 64, 2, batch_first=True)\n",
    "        self.linear = torch.nn.Linear(64, 1)\n",
    "        self.sigmoid = torch.nn.Sigmoid()\n",
    "\n",
    "    def forward(self, x):\n",
    "        x, _ = self.lstm(x)\n",
    "        x = self.linear(x)\n",
    "        x = self.sigmoid(x)\n",
    "        return x"
   ]
  },
  {
   "cell_type": "code",
   "execution_count": 38,
   "metadata": {},
   "outputs": [],
   "source": [
    "class GAN(torch.nn.Module):\n",
    "    def __init__(self, input_size, hidden_size, output_size):\n",
    "        super(GAN, self).__init__()\n",
    "        self.generator = Generator(input_size, hidden_size, output_size)\n",
    "        self.discriminator = Disciminator()\n",
    "\n",
    "    def forward(self, x, hidden):\n",
    "        x, hidden = self.generator(x, hidden)\n",
    "        x = self.discriminator(x)\n",
    "        return x, hidden\n",
    "\n",
    "    def init_hidden(self, batch_size):\n",
    "        return self.generator.init_hidden(batch_size)\n",
    "\n",
    "def train(dataloader, model, optimizer, criterion, epochs):\n",
    "    for epoch in range(epochs):\n",
    "        for i, batch in enumerate(dataloader):\n",
    "            batch_size = batch.shape[1]\n",
    "            hidden = model.init_hidden(batch_size)\n",
    "            for j in range(batch.shape[0]):\n",
    "                optimizer.zero_grad()\n",
    "                x = batch[j].unsqueeze(0).unsqueeze(2).float()\n",
    "                y = torch.ones(batch_size, 1)\n",
    "                y_hat, hidden = model(x, hidden)\n",
    "                loss = criterion(y_hat, y)\n",
    "                loss.backward()\n",
    "                optimizer.step()\n",
    "                print(loss.item())\n",
    "\n"
   ]
  }
 ],
 "metadata": {
  "kernelspec": {
   "display_name": "gmusic",
   "language": "python",
   "name": "python3"
  },
  "language_info": {
   "codemirror_mode": {
    "name": "ipython",
    "version": 3
   },
   "file_extension": ".py",
   "mimetype": "text/x-python",
   "name": "python",
   "nbconvert_exporter": "python",
   "pygments_lexer": "ipython3",
   "version": "3.11.2"
  },
  "orig_nbformat": 4
 },
 "nbformat": 4,
 "nbformat_minor": 2
}
